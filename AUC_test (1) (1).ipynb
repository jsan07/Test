{
 "cells": [
  {
   "cell_type": "code",
   "execution_count": 13,
   "id": "11e86bed-d56a-4272-806c-f492280c643b",
   "metadata": {},
   "outputs": [],
   "source": [
    "# Uses Will's data cleaning data frames but also added Henry's code as well.\n",
    "%run cleaning-checkpoint.ipynb"
   ]
  },
  {
   "cell_type": "code",
   "execution_count": 14,
   "id": "5e2f9123-abcb-485e-98fd-cad176b6caee",
   "metadata": {},
   "outputs": [],
   "source": [
    "# Create new recidivism variable that is 1 if pedition is Y and 0 if pedition is N.\n",
    "merged_clean['recidivism'] = merged_clean['pedition'].map({'Y': 1, 'N': 0})"
   ]
  },
  {
   "cell_type": "code",
   "execution_count": 15,
   "id": "fee5590c-0e51-4b74-b1cc-a69fabe5a813",
   "metadata": {},
   "outputs": [
    {
     "name": "stdout",
     "output_type": "stream",
     "text": [
      "Point-biserial correlation (r): 0.2915090364083678\n",
      "p-value: 3.038064437949049e-08\n"
     ]
    }
   ],
   "source": [
    "#!pip install scipy\n",
    "from scipy.stats import pointbiserialr\n",
    "\n",
    "r, p_value = pointbiserialr(merged_clean['recidivism'], merged_clean['score'])\n",
    "\n",
    "print(\"Point-biserial correlation (r):\", r)\n",
    "print(\"p-value:\", p_value)"
   ]
  },
  {
   "cell_type": "code",
   "execution_count": 16,
   "id": "9c2b4f75-9c1b-416a-88ee-402d659b6a7b",
   "metadata": {},
   "outputs": [
    {
     "name": "stdout",
     "output_type": "stream",
     "text": [
      "Approximate AUC: 0.5816545426385087\n"
     ]
    }
   ],
   "source": [
    "# One method: Approximate AUC value by transforming r value to AUC using CDF\n",
    "from scipy.stats import norm\n",
    "\n",
    "auc = norm.cdf(r / np.sqrt(2))\n",
    "print(\"Approximate AUC:\", auc)"
   ]
  },
  {
   "cell_type": "code",
   "execution_count": 17,
   "id": "610af8fb-0b3c-41a1-b016-270e489abdb2",
   "metadata": {},
   "outputs": [
    {
     "name": "stdout",
     "output_type": "stream",
     "text": [
      "Cohen's d: 0.6464610993895296\n"
     ]
    }
   ],
   "source": [
    "# Other method: Transform r into Coen's d\n",
    "p = merged_clean['recidivism'].mean()  # proportion of 1s\n",
    "q = 1 - p\n",
    "\n",
    "# Compute Cohen's d\n",
    "d = r / np.sqrt(p * q * (1 - r**2))\n",
    "print(\"Cohen's d:\", d)"
   ]
  },
  {
   "cell_type": "code",
   "execution_count": 18,
   "id": "128a38a8-989e-4cba-b1db-8432042d3c51",
   "metadata": {},
   "outputs": [
    {
     "name": "stdout",
     "output_type": "stream",
     "text": [
      "z(AUC): 0.457117027151647\n"
     ]
    }
   ],
   "source": [
    "# Calculate z(AUC) = d/sqrt(2) using Coen's d\n",
    "z_auc = d / np.sqrt(2)\n",
    "print(\"z(AUC):\", z_auc)"
   ]
  },
  {
   "cell_type": "markdown",
   "id": "69f559a3-b011-4273-89c8-582e358e3fba",
   "metadata": {},
   "source": [
    "Using z score table find AUC\n",
    "\n",
    "The closest we can get is a z-score of 0.456 which has a AUC value of 0.676."
   ]
  },
  {
   "cell_type": "code",
   "execution_count": 19,
   "id": "7ed6fd7f-fd93-4ce1-983e-e738f76dde80",
   "metadata": {},
   "outputs": [
    {
     "name": "stdout",
     "output_type": "stream",
     "text": [
      "AUC value: 0.6762065338428813\n"
     ]
    }
   ],
   "source": [
    "#To get a more accurate AUC value we can apply the standard normal cdf.\n",
    "\n",
    "auc = norm.cdf(z_auc)\n",
    "print(\"AUC value:\", auc)"
   ]
  },
  {
   "cell_type": "markdown",
   "id": "ece9cdf0-4c72-49cf-9d00-1e2a1c11e614",
   "metadata": {},
   "source": [
    "Here we get a AUC value of 0.6762065338428813."
   ]
  }
 ],
 "metadata": {
  "kernelspec": {
   "display_name": "Python 3 (ipykernel)",
   "language": "python",
   "name": "python3"
  },
  "language_info": {
   "codemirror_mode": {
    "name": "ipython",
    "version": 3
   },
   "file_extension": ".py",
   "mimetype": "text/x-python",
   "name": "python",
   "nbconvert_exporter": "python",
   "pygments_lexer": "ipython3",
   "version": "3.12.9"
  }
 },
 "nbformat": 4,
 "nbformat_minor": 5
}
